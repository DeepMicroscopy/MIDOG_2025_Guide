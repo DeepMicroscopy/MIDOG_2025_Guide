version https://git-lfs.github.com/spec/v1
oid sha256:d1572e7a192fdd3959a49d3e73578f0a8cb313f1e986a212db3cd2d8c73a63bd
size 16233
