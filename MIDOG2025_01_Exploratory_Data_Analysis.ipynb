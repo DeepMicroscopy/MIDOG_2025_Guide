version https://git-lfs.github.com/spec/v1
oid sha256:572ee659519b9aec81830502ef3b05023c816ac7b34ee87b4d4d187e5f58465d
size 16253
