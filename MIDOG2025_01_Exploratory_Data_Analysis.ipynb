{
 "cells": [
  {
   "cell_type": "code",
   "execution_count": null,
   "metadata": {},
   "outputs": [],
   "source": [
    "%load_ext autoreload\n",
    "%autoreload 2"
   ]
  },
  {
   "cell_type": "markdown",
   "metadata": {},
   "source": [
    "# MIDOG 2025 Introduction and Exploratory Analysis\n",
    "\n",
    "Welcome to the MIDOG 2025 challenge! This notebook is designed to help you take your first steps in participating in this year’s competition. Specifically, it introduces you to the [MIDOG++](https://www.nature.com/articles/s41597-023-02327-4) dataset, a large and diverse collection of mitotic figure annotations. The dataset includes 11,937 mitotic figures across 7 different tumor types, providing a robust foundation for developing your algorithms.\n",
    "\n",
    "While the MIDOG++ dataset is a key resource, this year’s challenge allows the use of all publicly available datasets. For a non-exhaustive list of additional datasets, please refer to the [dataset section](https://midog2025.deepmicroscopy.org/datasets/) on the challenge website.\n",
    "\n",
    "For a general overview of the competition, visit the [MIDOG 2025 homepage](https://midog2025.deepmicroscopy.org/). This notebook focuses on guiding you through the initial steps of participating in [Track 1: Mitotic Figure Detection](https://midog2025.deepmicroscopy.org/midog2025-track-1/).\n",
    "\n",
    "In this notebook, you will:\n",
    "1. Set up your environment.\n",
    "2. Download the MIDOG++ dataset.\n",
    "3. Perform an exploratory analysis of the dataset.\n",
    "\n",
    "Let’s get started!"
   ]
  },
  {
   "cell_type": "markdown",
   "metadata": {},
   "source": [
    "# 1. Set Up Your Environment\n",
    "\n",
    "Before running this notebook, ensure that you have created a new virtual environment and installed the required dependencies. Follow the steps below to set up your environment:\n",
    "\n",
    "1. Open your terminal and create a new virtual environment:\n",
    "   ```\n",
    "   python -m venv midog_env\n",
    "   ```\n",
    "\n",
    "2. Activate the environment:\n",
    "   - On Linux/macOS:\n",
    "     ```\n",
    "     source midog_env/bin/activate\n",
    "     ```\n",
    "   - On Windows:\n",
    "     ```\n",
    "     midog_env\\Scripts\\activate\n",
    "     ```\n",
    "\n",
    "3. Install the required dependencies:\n",
    "   ```\n",
    "   pip install -r requirements.txt\n",
    "   ```\n",
    "\n",
    "Once the setup is complete, return to this notebook and select the newly created kernel to ensure the environment is properly configured."
   ]
  },
  {
   "cell_type": "markdown",
   "metadata": {},
   "source": [
    "You can verify that you are using the correct environment by checking if the following code shows e.g. `path/to/your/projects/MIDOG_2025_Guide/midog_env/bin/python`. "
   ]
  },
  {
   "cell_type": "code",
   "execution_count": null,
   "metadata": {},
   "outputs": [],
   "source": [
    "import sys\n",
    "print(sys.executable)"
   ]
  },
  {
   "cell_type": "code",
   "execution_count": null,
   "metadata": {},
   "outputs": [],
   "source": [
    "# Load libaries \n",
    "import cv2\n",
    "import json \n",
    "import numpy as np\n",
    "import openslide \n",
    "import pandas as pd \n",
    "import plotly.express as px \n",
    "\n",
    "from pathlib import Path"
   ]
  },
  {
   "cell_type": "markdown",
   "metadata": {},
   "source": [
    "# 2. Download the MIDOG++ Dataset\n",
    "\n",
    "The first step is to download the dataset. Please note that the total size of the dataset is approximately 65 GB, so the download process may take some time. By default, it is recommended to store the downloaded files in the `images` directory. If you choose a different location, you will need to update the corresponding paths later in this notebook.\n",
    "\n",
    "**Important:** While the MIDOG++ dataset is a key resource for this challenge, you are encouraged to explore and utilize additional datasets. In particular, whole-slide image datasets can be highly beneficial for your algorithms, as they may include tissue types not present in the MIDOG++ dataset.\n",
    "\n",
    "You can download the dataset directly within this notebook by uncommenting and running the next cell, or alternatively, you can execute the `download_MIDOGpp.py` script in your terminal."
   ]
  },
  {
   "cell_type": "code",
   "execution_count": null,
   "metadata": {},
   "outputs": [],
   "source": [
    "# # Download MIDOG++ to images/\n",
    "# !python download_MIDOGpp.py --location images"
   ]
  },
  {
   "cell_type": "markdown",
   "metadata": {},
   "source": [
    "# 3. Exploratory Analysis of the MIDOG++ Dataset\n",
    "\n",
    "Let's begin with the exploratory analysis of the dataset. This should give you an idea of the variety of the images in the dataset and the variation of the mitotic figure class. \n",
    "\n",
    "Here is an overview of the images contained in the dataset. \n",
    "\n",
    "| No. Cases | Tumor Type | Origin | Species | Scanner | Resolution |\n",
    "|-----------|------------|---------|----------|----------|------------|\n",
    "| 50 | Breast Carcinoma | UMC Utrecht | Human | Hamamatsu XR (C12000-22) | 0.23 μm/px |\n",
    "| 50 | Breast Carcinoma | UMC Utrecht | Human | Hamamatsu S360 | 0.23 μm/px |\n",
    "| 50 | Breast Carcinoma | UMC Utrecht | Human | Leica ScanScope CS2 | 0.25 μm/px |\n",
    "| 44 | Lung Carcinoma | VMU Vienna | Canine | 3DHistech Pannoramic Scan II | 0.25 μm/px |\n",
    "| 55 | Lymphosarcoma | VMU Vienna | Canine | 3DHistech Pannoramic Scan II | 0.25 μm/px |\n",
    "| 50 | Cutaneous Mast Cell Tumor | FU Berlin | Canine | Aperio ScanScope CS2 | 0.25 μm/px |\n",
    "| 55 | Neuroendocrine Tumor | UMC Utrecht | Human | Hamamatsu XR (C12000-22) | 0.23 μm/px |\n",
    "| 85 | Soft Tissue Sarcoma | AMC New York | Canine | 3DHistech Pannoramic Scan II | 0.25 μm/px |\n",
    "| 15 | Soft Tissue Sarcoma | VMU Vienna | Canine | 3DHistech Pannoramic Scan II | 0.25 μm/px |\n",
    "| 49 | Melanoma | UMC Utrecht | Human | Hamamatsu XR (C12000-22) | 0.23 μm/px |\n",
    "| **503** | | | | | |\n",
    "\n",
    "\n",
    "For more detailed information about the dataset have a look the [MIDOG++ paper](https://www.nature.com/articles/s41597-023-02327-4).\n"
   ]
  },
  {
   "cell_type": "markdown",
   "metadata": {},
   "source": [
    "For easier handling and visualization of the annotations we will convert them to a pandas dataframe. "
   ]
  },
  {
   "cell_type": "code",
   "execution_count": null,
   "metadata": {},
   "outputs": [],
   "source": [
    "# Path to your downloaded images\n",
    "image_dir = Path('images')\n",
    "\n",
    "# Path to your dataset file\n",
    "dataset_file = image_dir / 'MIDOGpp.json'\n",
    "\n",
    "\n",
    "with open(dataset_file, 'r') as file:\n",
    "    database = json.load(file)\n",
    "\n",
    "    # Set labels \n",
    "    categories = {1: 'mitotic figure', 2: 'hard negative'}\n",
    "\n",
    "    # Read image data\n",
    "    image_df = pd.DataFrame.from_dict(database['images']).drop(columns='license').rename({'id':'image_id'}, axis=1)\n",
    "\n",
    "    # Read annotations\n",
    "    annotations_df = pd.DataFrame.from_dict(database['annotations']).drop(columns=['labels', 'id']).rename({'category_id':'cat'}, axis=1)\n",
    "    annotations_df['cat'] = annotations_df['cat'].map(categories)\n",
    " \n",
    "    # Merge dataframes\n",
    "    dataset = image_df.merge(annotations_df, how='right', on='image_id')\n",
    "\n",
    "dataset.head()"
   ]
  },
  {
   "cell_type": "markdown",
   "metadata": {},
   "source": [
    "## Statistics \n",
    "\n",
    "The following examples will give you an idea regarding the distribution of mitotic figure annotations and hard examples in the data across the different tumortypes. \n",
    "\n",
    "**Note: Be aware the only the mitotic figures are relevant for the challenge. The hard negative (non-mitotic cell) annotations are only meant to visualise the problem.**"
   ]
  },
  {
   "cell_type": "markdown",
   "metadata": {},
   "source": [
    "### The ratio of mitotic figures vs hard negative annotations"
   ]
  },
  {
   "cell_type": "code",
   "execution_count": null,
   "metadata": {},
   "outputs": [],
   "source": [
    "pie_df = pd.DataFrame([\n",
    "          [\"mitotic figure\", len(dataset[dataset[\"cat\"] == \"mitotic figure\"])],\n",
    "          [\"hard negative\", len(dataset[dataset[\"cat\"] == \"hard negative\"])]], columns=[\"cat\", \"total\"])\n",
    "\n",
    "fig = px.pie(pie_df, values='total', names='cat', title='Mitotic figures vs hard negatives')\n",
    "fig.show()"
   ]
  },
  {
   "cell_type": "markdown",
   "metadata": {},
   "source": [
    "### The number of mitotic figures vs hard negatives per tumor type and image "
   ]
  },
  {
   "cell_type": "code",
   "execution_count": null,
   "metadata": {},
   "outputs": [],
   "source": [
    "for tumortype in dataset['tumor_type'].unique():\n",
    "\n",
    "    tumortype_annos = dataset[dataset['tumor_type'] == tumortype]\n",
    "\n",
    "    row = []\n",
    "    for image_id in tumortype_annos[\"image_id\"].unique():\n",
    "        image_annos = tumortype_annos[tumortype_annos[\"image_id\"] == image_id]\n",
    "        row.append([image_id, len(image_annos[image_annos['cat'] == 'mitotic figure']), \"mitotic figure\"])\n",
    "        row.append([image_id, len(image_annos[image_annos['cat'] == 'hard negative']), \"hard negative\"])\n",
    "\n",
    "    tumortype_meta = pd.DataFrame(row, columns=[\"image_id\", \"total\", \"type\"])\n",
    "\n",
    "    fig = px.bar(tumortype_meta, x=\"image_id\", y=\"total\", color=\"type\", title=f\"{tumortype}: Annotations per image\")\n",
    "    fig.show()"
   ]
  },
  {
   "cell_type": "markdown",
   "metadata": {},
   "source": [
    "## Visual Examples\n",
    "\n",
    "The examples below showcase images of the various tumor types included in the dataset. It is important to note the differences in tissue appearance across these images, as these variations may result in domain shifts that could impact the performance of your algorithm on unseen domains."
   ]
  },
  {
   "cell_type": "code",
   "execution_count": null,
   "metadata": {},
   "outputs": [],
   "source": [
    "num_images = 10\n",
    "thumbnail_size = 512\n",
    "\n",
    "for tumortype in dataset['tumor_type'].unique():\n",
    "    images = []\n",
    "\n",
    "    tumor_filenames = dataset.query('tumor_type == @tumortype')['file_name'].unique()\n",
    "    samples = np.random.choice(tumor_filenames, size=num_images, replace=False)\n",
    "\n",
    "    for file in samples:\n",
    "        file_path = image_dir / file\n",
    "        if file_path.exists():\n",
    "            slide = openslide.open_slide(file_path)\n",
    "            image = slide.get_thumbnail((thumbnail_size, thumbnail_size))\n",
    "            images.append(np.array(image))\n",
    "\n",
    "    \n",
    "    max_x = max([img.shape[1] for img in images])\n",
    "    max_y = max([img.shape[0] for img in images])\n",
    "\n",
    "    imgs = np.array([cv2.resize(img, dsize=(max_x, max_y)) for img in images])\n",
    "\n",
    "    fig = px.imshow(imgs, facet_col=0, facet_col_wrap=5, labels={'facet_col':'Image'}, title=tumortype)\n",
    "\n",
    "    for i, id in enumerate(samples):\n",
    "        fig.layout.annotations[i]['text'] = f'Image: {id}'\n",
    "\n",
    "    fig.show()\n"
   ]
  },
  {
   "cell_type": "markdown",
   "metadata": {},
   "source": [
    "Next, we look a the annotations for one file. Red boxes show mitotic figures while blue boxes show hard negatives. You can set a different `image_id` to view another image. "
   ]
  },
  {
   "cell_type": "code",
   "execution_count": null,
   "metadata": {},
   "outputs": [],
   "source": [
    "thumbnail_size = 1024\n",
    "image_id = 79\n",
    "file_path = image_dir / f\"{image_id:03d}.tiff\"\n",
    "\n",
    "slide = openslide.open_slide(file_path)\n",
    "image = slide.get_thumbnail((thumbnail_size, thumbnail_size))\n",
    "\n",
    "fig = px.imshow(image)\n",
    "\n",
    "scale_x = slide.level_dimensions[0][0] / image.size[0]\n",
    "scale_y = slide.level_dimensions[0][1] / image.size[1]\n",
    "\n",
    "for id, anno in dataset[dataset[\"image_id\"] == image_id].iterrows():\n",
    "    x0, y0, x1, y1 = anno.bbox[0] / scale_x, anno.bbox[1] / scale_y, anno.bbox[2] / scale_x, anno.bbox[3] / scale_y\n",
    "    \n",
    "    fig.add_shape(\n",
    "        type='rect',\n",
    "        x0=x0, x1=x1, y0=y0, y1=y1,\n",
    "        xref='x', yref='y',\n",
    "        line_color='red' if \"mitotic\" in anno[\"cat\"] else \"blue\"\n",
    "    )\n",
    "fig.update_layout(\n",
    "    autosize=False,\n",
    "    width=image.size[0],\n",
    "    height=image.size[1],\n",
    "    )\n",
    "\n",
    "fig.show()"
   ]
  },
  {
   "cell_type": "markdown",
   "metadata": {},
   "source": [
    "The following examples display extracted patches of mitotic figures. Pay close attention to the morphological differences between the mitotic figures, as these variations contribute to the complexity of this detection task."
   ]
  },
  {
   "cell_type": "code",
   "execution_count": null,
   "metadata": {},
   "outputs": [],
   "source": [
    "num_samples = 5\n",
    "\n",
    "for tumortype in dataset['tumor_type'].unique():\n",
    "    patches = []\n",
    "    tumor_dataset = dataset.query('tumor_type == @tumortype and cat == \"mitotic figure\"')\n",
    "    samples = tumor_dataset.sample(n=num_samples)\n",
    "\n",
    "    for idx, sample in samples.iterrows():\n",
    "        file_path = image_dir / sample['file_name']\n",
    "        slide = openslide.open_slide(file_path)\n",
    "        center_x, center_y = sample.bbox[0] + (sample.bbox[2] - sample.bbox[0]) / 2, sample.bbox[1] + (sample.bbox[3] - sample.bbox[1]) / 2\n",
    "        patch = np.array(slide.read_region((int(center_x-50), int(center_y-50)), level=0, size=(100, 100)))\n",
    "        patches.append(patch)\n",
    "\n",
    "    fig = px.imshow(np.array(patches), facet_col=0, facet_col_wrap=5, labels={'facet_col':'mitotic figure'}, title=tumortype)\n",
    "    fig.show()"
   ]
  },
  {
   "cell_type": "markdown",
   "metadata": {},
   "source": [
    "The following examples showcase hard negatives. These samples emphasize the challenges of the detection task, as there can be significant overlap in appearance between hard negatives and mitotic figures. This similarity can lead to algorithmic confusion and an increased likelihood of false positives."
   ]
  },
  {
   "cell_type": "code",
   "execution_count": 12,
   "metadata": {},
   "outputs": [],
   "source": [
    "num_samples = 5\n",
    "\n",
    "for tumortype in dataset['tumor_type'].unique():\n",
    "    patches = []\n",
    "    tumor_dataset = dataset.query('tumor_type == @tumortype and cat == \"hard negative\"')\n",
    "    samples = tumor_dataset.sample(n=num_samples)\n",
    "\n",
    "    for idx, sample in samples.iterrows():\n",
    "        file_path = image_dir / sample['file_name']\n",
    "        slide = openslide.open_slide(file_path)\n",
    "        center_x, center_y = sample.bbox[0] + (sample.bbox[2] - sample.bbox[0]) / 2, sample.bbox[1] + (sample.bbox[3] - sample.bbox[1]) / 2\n",
    "        patch = np.array(slide.read_region((int(center_x-50), int(center_y-50)), level=0, size=(100, 100)))\n",
    "        patches.append(patch)\n",
    "\n",
    "    fig = px.imshow(np.array(patches), facet_col=0, facet_col_wrap=5, labels={'facet_col':'hard negative'}, title=tumortype)\n",
    "    fig.show()"
   ]
  }
 ],
 "metadata": {
  "kernelspec": {
   "display_name": "env",
   "language": "python",
   "name": "python3"
  },
  "language_info": {
   "codemirror_mode": {
    "name": "ipython",
    "version": 3
   },
   "file_extension": ".py",
   "mimetype": "text/x-python",
   "name": "python",
   "nbconvert_exporter": "python",
   "pygments_lexer": "ipython3",
   "version": "3.10.12"
  }
 },
 "nbformat": 4,
 "nbformat_minor": 2
}
