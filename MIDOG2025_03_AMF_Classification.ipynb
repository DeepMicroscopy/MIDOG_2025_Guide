{
 "cells": [
  {
   "cell_type": "code",
   "execution_count": null,
   "id": "e284639b",
   "metadata": {},
   "outputs": [],
   "source": [
    "%load_ext autoreload\n",
    "%autoreload 2"
   ]
  },
  {
   "cell_type": "markdown",
   "id": "3d635adb",
   "metadata": {},
   "source": [
    "# MIDOG 2025 Track 2: Classification of Atypical Mitotic Figures\n",
    "\n",
    "This notebook will you show you how to get started in track 2 of this years challenge. For a general overview of track 2 visit our [Track 2 Overview Page](https://midog2025.deepmicroscopy.org/track-2-atypical-classification/). The task of track 2 is to develop a classification algorithm that can differentiate well between normal mitotic figures and atypical mitotic figures. A task that is very challenging due to high class imbalance, high intra-class variability and subtle differences between the two classes. \n",
    "\n",
    "This notebook will guide you through the following steps:\n",
    "1. How to download the MIDOG 2025 Atypical Dataset\n",
    "2. How to set up a simple classification pipeline\n",
    "\n",
    "**Note: This is notebook should just give you an idea of how to approach the challenge. You can be creative and set the dataset up differently. You are also encouraged to use different models.**"
   ]
  },
  {
   "cell_type": "markdown",
   "id": "408073c3",
   "metadata": {},
   "source": [
    "# Prerequisites\n",
    "\n",
    "Make sure that you set up your environment correctly by following the instructions of the `README.md` or from notebook `MIDOG2025_01_Exploratory_Data_Analysis.ipynb`.\n"
   ]
  },
  {
   "cell_type": "code",
   "execution_count": null,
   "id": "c78aacae",
   "metadata": {},
   "outputs": [],
   "source": [
    "import matplotlib.pyplot as plt \n",
    "import numpy as np\n",
    "import os\n",
    "import pandas as pd \n",
    "import plotly.express as px \n",
    "import torch\n",
    "import torch.nn as nn\n",
    "import torch.optim as optim\n",
    "\n",
    "from PIL import Image\n",
    "from pathlib import Path\n",
    "from sklearn.metrics import balanced_accuracy_score\n",
    "from sklearn.model_selection import KFold, train_test_split\n",
    "from torch.utils.data import DataLoader, WeightedRandomSampler, Dataset\n",
    "from tqdm.notebook import tqdm \n",
    "\n",
    "from utils.classification_utils import MitosisClassifier, ClassificationDataset, MitosisTrainer"
   ]
  },
  {
   "cell_type": "markdown",
   "id": "3dd33cf7",
   "metadata": {},
   "source": [
    "# 1. Download the MIDOG 2025 Atypical Dataset\n",
    "\n",
    "Please download the zip folder of images and the csv file of labels from Google Drive: \n",
    "https://drive.google.com/drive/folders/1MMRWZdcyEsCaCwu8-6MxlIrQLNMequpq?usp=drive_link \n",
    "\n",
    "Unzip the folder and the csv file into the directory of this notebook. If you set up your data differently you will have to adjust your paths in this notebook accordingly."
   ]
  },
  {
   "cell_type": "code",
   "execution_count": null,
   "id": "60f881c8",
   "metadata": {},
   "outputs": [],
   "source": [
    "# Set the path to your images and the dataset file\n",
    "image_dir = Path('MIDOG25_Binary_Classification_Train_Set')\n",
    "dataset_file = 'MIDOG25_Atypical_Classification_Train_Set.csv'\n",
    "\n",
    "# Let us load the dataset \n",
    "dataset = pd.read_csv(dataset_file)\n",
    "dataset.head()"
   ]
  },
  {
   "cell_type": "markdown",
   "id": "e628d4f3",
   "metadata": {},
   "source": [
    "## Exploratory Analysis\n",
    "\n",
    "The next examples will show you some patches of the atypical classification dataset. The patches in the dataset were extracted around the original annotations to simplify the classfication task. The next plot shows some normal mitotic figures. Pay attention to the high intra-class variability of the examples."
   ]
  },
  {
   "cell_type": "code",
   "execution_count": null,
   "id": "d13ce1c0",
   "metadata": {},
   "outputs": [],
   "source": [
    "grouped_per_label = dataset.groupby('majority').size().reset_index(name='count')\n",
    "fig = px.pie(\n",
    "    grouped_per_label, \n",
    "    values='count', \n",
    "    names='majority', \n",
    "    title='Normal Mitotic Figures (NMF) vs Atypical Mitotic Figures (AMF)', \n",
    "    color_discrete_sequence=['#2ecc71', '#e74c3c'])\n",
    "fig.show()"
   ]
  },
  {
   "cell_type": "code",
   "execution_count": null,
   "id": "1626c312",
   "metadata": {},
   "outputs": [],
   "source": [
    "grouped_per_tumor = dataset.groupby(['Tumor', 'majority']).size().reset_index(name='count')\n",
    "fig = px.bar(grouped_per_tumor, \n",
    "             x='Tumor',\n",
    "             y='count',\n",
    "             color='majority',\n",
    "             barmode='group',\n",
    "             title='Distribution of Atypical and Normal Mitotic Figures per Tumor Type',\n",
    "             labels={'count': 'Count', 'Tumor': 'Tumor Type', 'majority': ''},\n",
    "             color_discrete_sequence=['#e74c3c', '#2ecc71'])\n",
    "fig.update_layout(\n",
    "    plot_bgcolor='white',\n",
    "    bargap=0.2,\n",
    "    bargroupgap=0.1\n",
    ")\n",
    "fig.show()"
   ]
  },
  {
   "cell_type": "code",
   "execution_count": null,
   "id": "8d85acbd",
   "metadata": {},
   "outputs": [],
   "source": [
    "grouped_per_tumor = dataset.groupby(['Scanner', 'majority']).size().reset_index(name='count')\n",
    "fig = px.bar(grouped_per_tumor, \n",
    "             x='Scanner',\n",
    "             y='count',\n",
    "             color='majority',\n",
    "             barmode='group',\n",
    "             title='Distribution of Atypical and Normal Mitotic Figures per Scanner',\n",
    "             labels={'count': 'Count', 'Tumor': 'Tumor Type', 'majority': ''},\n",
    "             color_discrete_sequence=['#e74c3c', '#2ecc71'])\n",
    "fig.update_layout(\n",
    "    plot_bgcolor='white',\n",
    "    bargap=0.2,\n",
    "    bargroupgap=0.1\n",
    ")\n",
    "fig.show()"
   ]
  },
  {
   "cell_type": "code",
   "execution_count": null,
   "id": "d299aff7",
   "metadata": {},
   "outputs": [],
   "source": [
    "grouped_per_tumor = dataset.groupby(['Species', 'majority']).size().reset_index(name='count')\n",
    "fig = px.bar(grouped_per_tumor, \n",
    "             x='Species',\n",
    "             y='count',\n",
    "             color='majority',\n",
    "             barmode='group',\n",
    "             title='Distribution of Atypical and Normal Mitotic Figures per Species',\n",
    "             labels={'count': 'Count', 'Tumor': 'Tumor Type', 'majority': ''},\n",
    "             color_discrete_sequence=['#e74c3c', '#2ecc71'])\n",
    "fig.update_layout(\n",
    "    plot_bgcolor='white',\n",
    "    bargap=0.2,\n",
    "    bargroupgap=0.1\n",
    ")\n",
    "fig.show()"
   ]
  },
  {
   "cell_type": "markdown",
   "id": "f4207d1d",
   "metadata": {},
   "source": [
    "## Visual Examples\n",
    "\n",
    "The following examples show the extracted patches of the atypical classifcation dataset. The patches in this dataset are extracted around the original annotations to simplify the classification task. The first plot shows some normal mitotic figures. Pay attention to the high intra-class variability of mitotic figures. "
   ]
  },
  {
   "cell_type": "code",
   "execution_count": null,
   "id": "863271c0",
   "metadata": {},
   "outputs": [],
   "source": [
    "num_samples = 10\n",
    "\n",
    "for tumortype in dataset['Tumor'].unique():\n",
    "    patches = []\n",
    "    tumor_dataset = dataset.query('Tumor == @tumortype and majority == \"NMF\"')\n",
    "    samples = tumor_dataset.sample(n=num_samples)\n",
    "\n",
    "    for idx, sample in samples.iterrows():\n",
    "        file_path = image_dir / sample['image_id']\n",
    "        patch = Image.open(file_path)\n",
    "        patches.append(patch)\n",
    "\n",
    "    fig = px.imshow(np.array(patches), facet_col=0, facet_col_wrap=5, labels={'facet_col':'NMF'}, title=tumortype)\n",
    "    fig.show()"
   ]
  },
  {
   "cell_type": "markdown",
   "id": "57c3e6f1",
   "metadata": {},
   "source": [
    "The next examples show atpyical mitotic figures. Pay close attention to the high intra-class variability. But also note that there can be only subtle differences to normal mitotic figures, which make this a really hard problem. "
   ]
  },
  {
   "cell_type": "code",
   "execution_count": null,
   "id": "344f5fb5",
   "metadata": {},
   "outputs": [],
   "source": [
    "num_samples = 10\n",
    "\n",
    "for tumortype in dataset['Tumor'].unique():\n",
    "    patches = []\n",
    "    tumor_dataset = dataset.query('Tumor == @tumortype and majority == \"AMF\"')\n",
    "    samples = tumor_dataset.sample(n=num_samples)\n",
    "\n",
    "    for idx, sample in samples.iterrows():\n",
    "        file_path = image_dir / sample['image_id']\n",
    "        patch = Image.open(file_path)\n",
    "        patches.append(patch)\n",
    "\n",
    "    fig = px.imshow(np.array(patches), facet_col=0, facet_col_wrap=5, labels={'facet_col':'AMF'}, title=tumortype)\n",
    "    fig.show()"
   ]
  },
  {
   "cell_type": "markdown",
   "id": "1ffd5657",
   "metadata": {},
   "source": [
    "# 2. Simple Classification Pipeline\n",
    "\n",
    "Next, we will set up a very simple classification pipeline. This only to give you an idea of how to approach the challenge. You are encouraged to set up the data differently and use other models to get better results. Have a look at the [MIDOG 2022 Overview Paper]() to get an idea of what techniques were successfull in achieving high domain robustness. Check out the latest literature get some ideas and apply them to this task. "
   ]
  },
  {
   "cell_type": "code",
   "execution_count": null,
   "id": "08570586",
   "metadata": {},
   "outputs": [],
   "source": [
    "import os \n",
    "\n",
    "# Set up data \n",
    "def load_data_from_csv(csv_path, images_folder, label_col='majority'):\n",
    "    \"\"\"\n",
    "    Reads a CSV file that contains image filenames and a 'majority' column \n",
    "    indicating the label ('AMF' or 'NMF'). \n",
    "    Returns:\n",
    "        images (list of str): Full paths to images\n",
    "        labels (list of int): Numeric labels (0 for AMF -> Atypical, 1 for NMF -> Normal)\n",
    "    \"\"\"\n",
    "    df = pd.read_csv(csv_path)\n",
    "    \n",
    "    # Map string labels to numeric\n",
    "    label_map = {\n",
    "        'AMF': 0,  # Atypical\n",
    "        'NMF': 1   # Normal\n",
    "    }\n",
    "\n",
    "    images = []\n",
    "    labels = []\n",
    "\n",
    "    for _, row in df.iterrows():\n",
    "        img_name = row['image_id']  # Adjust if your CSV column name differs\n",
    "        label_str = row[label_col]\n",
    "        img_path = os.path.join(images_folder, img_name)\n",
    "        if not os.path.isfile(img_path):\n",
    "            continue\n",
    "        \n",
    "        images.append(img_path)\n",
    "        labels.append(label_map[label_str])\n",
    "    \n",
    "    return images, labels"
   ]
  },
  {
   "cell_type": "code",
   "execution_count": null,
   "id": "a4af2130",
   "metadata": {},
   "outputs": [],
   "source": [
    "# Load data \n",
    "images, labels = load_data_from_csv(dataset_file, image_dir, label_col='majority')\n",
    "\n",
    "# Split data into training and test split \n",
    "train_images, test_images, train_labels, test_labels = train_test_split(images, labels, test_size=0.2, random_state=42)\n",
    "\n",
    "len(train_images), len(test_images)"
   ]
  },
  {
   "cell_type": "code",
   "execution_count": null,
   "id": "a4e4a6a1",
   "metadata": {},
   "outputs": [],
   "source": [
    "# Set up training configurations\n",
    "num_epochs = 10\n",
    "batch_size = 128\n",
    "num_folds = 5\n",
    "lr=1e-4\n",
    "model_name = 'efficientnet_v2_s'\n",
    "weights = 'IMAGENET1K_V1'\n",
    "experiment_dir = 'classification_results'\n",
    "\n",
    "\n",
    "# Set up the trainer\n",
    "trainer = MitosisTrainer(\n",
    "    model_name=model_name,\n",
    "    weights=weights,\n",
    "    num_epochs=num_epochs,\n",
    "    batch_size=batch_size,\n",
    "    num_folds=num_folds,\n",
    "    lr=lr,\n",
    "    experiment_dir=experiment_dir\n",
    ")\n",
    "\n",
    "# Run the k-fold cross validation and evaluate on the test set\n",
    "val_accuracies, test_accuracies = trainer.train_and_evaluate(\n",
    "    train_images=train_images,\n",
    "    train_labels=train_labels, \n",
    "    test_images=test_images,\n",
    "    test_labels=test_labels\n",
    ")"
   ]
  },
  {
   "cell_type": "code",
   "execution_count": null,
   "id": "6a0494a9",
   "metadata": {},
   "outputs": [],
   "source": [
    "val_accuracies"
   ]
  },
  {
   "cell_type": "code",
   "execution_count": null,
   "id": "61507983",
   "metadata": {},
   "outputs": [],
   "source": [
    "test_accuracies"
   ]
  },
  {
   "cell_type": "code",
   "execution_count": null,
   "id": "6c3eee57",
   "metadata": {},
   "outputs": [],
   "source": []
  }
 ],
 "metadata": {
  "kernelspec": {
   "display_name": "env",
   "language": "python",
   "name": "python3"
  },
  "language_info": {
   "codemirror_mode": {
    "name": "ipython",
    "version": 3
   },
   "file_extension": ".py",
   "mimetype": "text/x-python",
   "name": "python",
   "nbconvert_exporter": "python",
   "pygments_lexer": "ipython3",
   "version": "3.10.12"
  }
 },
 "nbformat": 4,
 "nbformat_minor": 5
}
